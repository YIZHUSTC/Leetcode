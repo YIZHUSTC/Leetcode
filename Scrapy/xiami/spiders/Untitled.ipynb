{
 "cells": [
  {
   "cell_type": "code",
   "execution_count": 8,
   "metadata": {},
   "outputs": [
    {
     "name": "stdout",
     "output_type": "stream",
     "text": [
      "请输入要爬取的url:\n",
      "http://www.xiami.com/song/fEqZW42797?spm=a1z1s.3057857.0.0.FxIkgx\n",
      "[\n",
      "九月(海子)\n",
      "]\n",
      "请输入要爬取的url:\n",
      "http://www.xiami.com/song/xLpf0Qc772b?spm=a1z1s.3057857.0.0.FxIkgx\n",
      "[\n",
      "小小葫芦娃剪纸系列片《葫芦兄弟》主题歌\n",
      "]\n",
      "请输入要爬取的url:\n",
      "-1\n"
     ]
    }
   ],
   "source": [
    "from bs4 import BeautifulSoup\n",
    "import urllib,urllib.request\n",
    "import re\n",
    "print(\"请输入要爬取的url:\")\n",
    "url=input()\n",
    "picnum=0\n",
    "while url!='-1':\n",
    "    urlhd=urllib.request.Request( url, headers = {\n",
    "        'Connection': 'Keep-Alive',\n",
    "        'Accept': 'text/html, application/xhtml+xml, */*',\n",
    "        'Accept-Language': 'en-US,en;q=0.8,zh-Hans-CN;q=0.5,zh-Hans;q=0.3',\n",
    "        'User-Agent': 'Mozilla/5.0 (Windows NT 6.3; WOW64; Trident/7.0; rv:11.0) like Gecko'\n",
    "    })\n",
    "    page= urllib.request.urlopen(urlhd)\n",
    "    soup=BeautifulSoup(page,'html.parser',from_encoding='utf-8')\n",
    "    title=soup.find_all(id='title')\n",
    "    lrc=soup.find_all(class_='lrc_main')\n",
    "    lrc=str(lrc)\n",
    "    title=str(title)\n",
    "    p = re.compile('<[^>]+>')\n",
    "    lrc=p.sub(\"\",lrc)\n",
    "    title=p.sub(\"\",title)\n",
    "    print(title)\n",
    "    with open(str(picnum)+'.txt','w')as f:\n",
    "        f.write(lrc)\n",
    "        picnum+=1\n",
    "    print(\"请输入要爬取的url:\")\n",
    "    url=input()"
   ]
  },
  {
   "cell_type": "code",
   "execution_count": 64,
   "metadata": {},
   "outputs": [
    {
     "name": "stdout",
     "output_type": "stream",
     "text": [
      "Jewel\n",
      "Stay Here Forever\n",
      "[\r\n",
      "\t\t\t\tI'm laying here dreaming, staring at the ceiling,\n",
      "Wasting the day away\n",
      "The world's flying by our window outside\n",
      "But hey baby that's okay\n",
      "This feels so right, it can't be wrong so far as I can see\n",
      "Where you wanna go\n",
      "Baby, I'll do anything\n",
      "\n",
      "'Cause if you wanna go\n",
      "Baby, let's go\n",
      "If you wanna rock,\n",
      "I'm ready to roll\n",
      "And if you wanna slow down,\n",
      "We can slow down together\n",
      "If you wanna walk,\n",
      "Baby, let's walk\n",
      "Have a little kiss,\n",
      "Have a little talk\n",
      "We don't gotta leave at all\n",
      "We can lay here forever\n",
      "Stay here forever, oh\n",
      "\n",
      "If you want to see that Italian tower leaning\n",
      "Baby, we can leave right now\n",
      "If that's too far, we can jump in the car\n",
      "And take a little trip around town\n",
      "They say that California is nice and warm this time of year\n",
      "Baby, say the word and we'll just disappear\n",
      "\n",
      "'Cause if you wanna go\n",
      "Baby, let's go\n",
      "If you wanna rock,\n",
      "I'm ready to roll\n",
      "And if you wanna slow down,\n",
      "We can slow down together\n",
      "If you wanna walk,\n",
      "Baby, let's walk\n",
      "Have a little kiss,\n",
      "Have a little talk\n",
      "We don't gotta leave at all\n",
      "We can lay here forever\n",
      "Stay here forever, oh\n",
      "\n",
      "It's a big world for a boy and a girl\n",
      "Letting go of it all\n",
      "Holding on to one another\n",
      "Or there's a whole another world to discover under the covers\n",
      "\n",
      "So if you wanna go\n",
      "Baby, let's go\n",
      "If you wanna rock,\n",
      "I'm ready to roll\n",
      "If you wanna slow down,\n",
      "We can slow down together\n",
      "If you wanna walk,\n",
      "Baby, let's walk\n",
      "Have a little kiss,\n",
      "Have a little talk\n",
      "We don't gotta leave at all\n",
      "We can lay here forever\n",
      "Stay here forever\n",
      "Let's just lay here forever\n",
      "Stay here forever, oh\r\n",
      "\t\t\t\t]\n"
     ]
    }
   ],
   "source": [
    "url=\"http://www.xiami.com/song/b1pOBSK3f088?spm=a1z1s.3057857.0.0.7hTVGU\"\n",
    "urlhd=urllib.request.Request( url, headers = {\n",
    "        'Connection': 'Keep-Alive',\n",
    "        'Accept': 'text/html, application/xhtml+xml, */*',\n",
    "        'Accept-Language': 'en-US,en;q=0.8,zh-Hans-CN;q=0.5,zh-Hans;q=0.3',\n",
    "        'User-Agent': 'Mozilla/5.0 (Windows NT 6.3; WOW64; Trident/7.0; rv:11.0) like Gecko'\n",
    "    })\n",
    "page= urllib.request.urlopen(urlhd)\n",
    "soup=BeautifulSoup(page,'html.parser',from_encoding='utf-8')\n",
    "p = re.compile('<[^>]+>')\n",
    "artist=str(soup.find_all(property=\"og:music:artist\")).split(\"\\\"\")[1]\n",
    "print(artist)\n",
    "title=str(soup.find_all(property=\"og:title\")).split(\"\\\"\")[1]\n",
    "print(title)\n",
    "lrc=str(soup.find_all(class_='lrc_main'))\n",
    "lrc=p.sub(\"\",lrc)\n",
    "print(lrc)"
   ]
  },
  {
   "cell_type": "code",
   "execution_count": null,
   "metadata": {
    "collapsed": true
   },
   "outputs": [],
   "source": []
  }
 ],
 "metadata": {
  "kernelspec": {
   "display_name": "Python 3",
   "language": "python",
   "name": "python3"
  },
  "language_info": {
   "codemirror_mode": {
    "name": "ipython",
    "version": 3
   },
   "file_extension": ".py",
   "mimetype": "text/x-python",
   "name": "python",
   "nbconvert_exporter": "python",
   "pygments_lexer": "ipython3",
   "version": "3.6.3"
  }
 },
 "nbformat": 4,
 "nbformat_minor": 2
}
